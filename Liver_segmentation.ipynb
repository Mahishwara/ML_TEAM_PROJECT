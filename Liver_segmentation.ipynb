{
 "cells": [
  {
   "cell_type": "code",
   "execution_count": 4,
   "id": "d8a8a56e",
   "metadata": {
    "_cell_guid": "b1076dfc-b9ad-4769-8c92-a6c4dae69d19",
    "_uuid": "8f2839f25d086af736a60e9eeb907d3b93b6e0e5",
    "execution": {
     "iopub.execute_input": "2024-04-22T13:29:11.246419Z",
     "iopub.status.busy": "2024-04-22T13:29:11.246085Z",
     "iopub.status.idle": "2024-04-22T13:29:26.612261Z",
     "shell.execute_reply": "2024-04-22T13:29:26.611452Z"
    },
    "papermill": {
     "duration": 15.384187,
     "end_time": "2024-04-22T13:29:26.614749",
     "exception": false,
     "start_time": "2024-04-22T13:29:11.230562",
     "status": "completed"
    },
    "pycharm": {
     "name": "#%%\n"
    },
    "tags": []
   },
   "outputs": [],
   "source": [
    "import numpy as np \n",
    "import pandas as pd \n",
    "import os\n",
    "import matplotlib.pyplot as plt\n",
    "import glob\n",
    "import nibabel as nib\n",
    "import imageio\n",
    "from tqdm.notebook import tqdm\n",
    "from ipywidgets import *\n",
    "from PIL import Image\n",
    "from fastai.basics import *\n",
    "from fastai.vision.all import *\n",
    "from fastai.data.transforms import *"
   ]
  },
  {
   "cell_type": "code",
   "execution_count": 5,
   "id": "3c3b6e01",
   "metadata": {
    "execution": {
     "iopub.execute_input": "2024-04-22T13:29:26.644691Z",
     "iopub.status.busy": "2024-04-22T13:29:26.644311Z",
     "iopub.status.idle": "2024-04-22T13:29:26.786672Z",
     "shell.execute_reply": "2024-04-22T13:29:26.785736Z"
    },
    "papermill": {
     "duration": 0.159609,
     "end_time": "2024-04-22T13:29:26.788915",
     "exception": false,
     "start_time": "2024-04-22T13:29:26.629306",
     "status": "completed"
    },
    "pycharm": {
     "name": "#%%\n"
    },
    "tags": []
   },
   "outputs": [
    {
     "data": {
      "text/plain": "Empty DataFrame\nColumns: [dirname, filename]\nIndex: []",
      "text/html": "<div>\n<style scoped>\n    .dataframe tbody tr th:only-of-type {\n        vertical-align: middle;\n    }\n\n    .dataframe tbody tr th {\n        vertical-align: top;\n    }\n\n    .dataframe thead th {\n        text-align: right;\n    }\n</style>\n<table border=\"1\" class=\"dataframe\">\n  <thead>\n    <tr style=\"text-align: right;\">\n      <th></th>\n      <th>dirname</th>\n      <th>filename</th>\n    </tr>\n  </thead>\n  <tbody>\n  </tbody>\n</table>\n</div>"
     },
     "execution_count": 5,
     "metadata": {},
     "output_type": "execute_result"
    }
   ],
   "source": [
    "# Create a meta file for nii files processing\n",
    "\n",
    "file_list = []\n",
    "for dirname, _, filenames in os.walk('/kaggle/input/liver-tumor-segmentation'):\n",
    "    for filename in filenames:\n",
    "#         print(os.path.join(dirname, filename))\n",
    "        file_list.append((dirname,filename)) \n",
    "\n",
    "for dirname, _, filenames in os.walk('/kaggle/input/liver-tumor-segmentation-part-2'):\n",
    "    for filename in filenames:\n",
    "        file_list.append((dirname,filename)) \n",
    "\n",
    "df_files = pd.DataFrame(file_list, columns =['dirname', 'filename']) \n",
    "df_files.sort_values(by=['filename'], ascending=True)    "
   ]
  },
  {
   "cell_type": "code",
   "execution_count": 6,
   "id": "cc8eb74e",
   "metadata": {
    "execution": {
     "iopub.execute_input": "2024-04-22T13:29:26.819704Z",
     "iopub.status.busy": "2024-04-22T13:29:26.819355Z",
     "iopub.status.idle": "2024-04-22T13:29:26.927038Z",
     "shell.execute_reply": "2024-04-22T13:29:26.925997Z"
    },
    "papermill": {
     "duration": 0.125982,
     "end_time": "2024-04-22T13:29:26.929807",
     "exception": false,
     "start_time": "2024-04-22T13:29:26.803825",
     "status": "completed"
    },
    "pycharm": {
     "name": "#%%\n"
    },
    "tags": []
   },
   "outputs": [
    {
     "name": "stdout",
     "output_type": "stream",
     "text": [
      "0\n"
     ]
    },
    {
     "data": {
      "text/plain": "Empty DataFrame\nColumns: [dirname, filename, mask_dirname, mask_filename]\nIndex: []",
      "text/html": "<div>\n<style scoped>\n    .dataframe tbody tr th:only-of-type {\n        vertical-align: middle;\n    }\n\n    .dataframe tbody tr th {\n        vertical-align: top;\n    }\n\n    .dataframe thead th {\n        text-align: right;\n    }\n</style>\n<table border=\"1\" class=\"dataframe\">\n  <thead>\n    <tr style=\"text-align: right;\">\n      <th></th>\n      <th>dirname</th>\n      <th>filename</th>\n      <th>mask_dirname</th>\n      <th>mask_filename</th>\n    </tr>\n  </thead>\n  <tbody>\n  </tbody>\n</table>\n</div>"
     },
     "execution_count": 6,
     "metadata": {},
     "output_type": "execute_result"
    }
   ],
   "source": [
    "# Map CT scan and label \n",
    "\n",
    "df_files[\"mask_dirname\"] = \"\" ; df_files[\"mask_filename\"] = \"\"\n",
    "\n",
    "for i in range(131):\n",
    "    ct = f\"volume-{i}.nii\"\n",
    "    mask = f\"segmentation-{i}.nii\"\n",
    "    \n",
    "    df_files.loc[df_files['filename'] == ct, 'mask_filename'] = mask\n",
    "    df_files.loc[df_files['filename'] == ct, 'mask_dirname'] = \"../input/liver-tumor-segmentation/segmentations\"\n",
    "\n",
    "df_files_test= df_files[df_files.mask_filename=='']\n",
    "# drop segment rows\n",
    "df_files = df_files[df_files.mask_filename != ''].sort_values(by=['filename']).reset_index(drop=True) \n",
    "print(len(df_files))\n",
    "df_files\n",
    "#df_files_test"
   ]
  },
  {
   "cell_type": "code",
   "execution_count": 7,
   "id": "39b1ceed",
   "metadata": {
    "execution": {
     "iopub.execute_input": "2024-04-22T13:29:26.963889Z",
     "iopub.status.busy": "2024-04-22T13:29:26.963560Z",
     "iopub.status.idle": "2024-04-22T13:29:26.969045Z",
     "shell.execute_reply": "2024-04-22T13:29:26.968152Z"
    },
    "papermill": {
     "duration": 0.023966,
     "end_time": "2024-04-22T13:29:26.971134",
     "exception": false,
     "start_time": "2024-04-22T13:29:26.947168",
     "status": "completed"
    },
    "pycharm": {
     "name": "#%%\n"
    },
    "tags": []
   },
   "outputs": [],
   "source": [
    "def read_nii(filepath):\n",
    "    '''\n",
    "    Reads .nii file and returns pixel array\n",
    "    '''\n",
    "    ct_scan = nib.load(filepath)\n",
    "    array   = ct_scan.get_fdata()\n",
    "    array   = np.rot90(np.array(array))\n",
    "    return(array)"
   ]
  },
  {
   "cell_type": "code",
   "execution_count": 8,
   "id": "4588978d",
   "metadata": {
    "execution": {
     "iopub.execute_input": "2024-04-22T13:29:27.004104Z",
     "iopub.status.busy": "2024-04-22T13:29:27.003752Z",
     "iopub.status.idle": "2024-04-22T13:29:28.263800Z",
     "shell.execute_reply": "2024-04-22T13:29:28.262770Z"
    },
    "papermill": {
     "duration": 1.27951,
     "end_time": "2024-04-22T13:29:28.265940",
     "exception": false,
     "start_time": "2024-04-22T13:29:26.986430",
     "status": "completed"
    },
    "pycharm": {
     "name": "#%%\n"
    },
    "tags": []
   },
   "outputs": [
    {
     "ename": "KeyError",
     "evalue": "0",
     "output_type": "error",
     "traceback": [
      "\u001B[1;31m---------------------------------------------------------------------------\u001B[0m",
      "\u001B[1;31mValueError\u001B[0m                                Traceback (most recent call last)",
      "File \u001B[1;32m~\\PycharmProjects\\pythonProject4\\venv\\lib\\site-packages\\pandas\\core\\indexes\\range.py:413\u001B[0m, in \u001B[0;36mRangeIndex.get_loc\u001B[1;34m(self, key)\u001B[0m\n\u001B[0;32m    412\u001B[0m \u001B[38;5;28;01mtry\u001B[39;00m:\n\u001B[1;32m--> 413\u001B[0m     \u001B[38;5;28;01mreturn\u001B[39;00m \u001B[38;5;28;43mself\u001B[39;49m\u001B[38;5;241;43m.\u001B[39;49m\u001B[43m_range\u001B[49m\u001B[38;5;241;43m.\u001B[39;49m\u001B[43mindex\u001B[49m\u001B[43m(\u001B[49m\u001B[43mnew_key\u001B[49m\u001B[43m)\u001B[49m\n\u001B[0;32m    414\u001B[0m \u001B[38;5;28;01mexcept\u001B[39;00m \u001B[38;5;167;01mValueError\u001B[39;00m \u001B[38;5;28;01mas\u001B[39;00m err:\n",
      "\u001B[1;31mValueError\u001B[0m: 0 is not in range",
      "\nThe above exception was the direct cause of the following exception:\n",
      "\u001B[1;31mKeyError\u001B[0m                                  Traceback (most recent call last)",
      "Cell \u001B[1;32mIn[8], line 3\u001B[0m\n\u001B[0;32m      1\u001B[0m \u001B[38;5;66;03m# Read sample\u001B[39;00m\n\u001B[0;32m      2\u001B[0m sample \u001B[38;5;241m=\u001B[39m \u001B[38;5;241m0\u001B[39m\n\u001B[1;32m----> 3\u001B[0m sample_ct   \u001B[38;5;241m=\u001B[39m read_nii(\u001B[43mdf_files\u001B[49m\u001B[38;5;241;43m.\u001B[39;49m\u001B[43mloc\u001B[49m\u001B[43m[\u001B[49m\u001B[43msample\u001B[49m\u001B[43m,\u001B[49m\u001B[38;5;124;43m'\u001B[39;49m\u001B[38;5;124;43mdirname\u001B[39;49m\u001B[38;5;124;43m'\u001B[39;49m\u001B[43m]\u001B[49m\u001B[38;5;241m+\u001B[39m\u001B[38;5;124m\"\u001B[39m\u001B[38;5;124m/\u001B[39m\u001B[38;5;124m\"\u001B[39m\u001B[38;5;241m+\u001B[39mdf_files\u001B[38;5;241m.\u001B[39mloc[sample,\u001B[38;5;124m'\u001B[39m\u001B[38;5;124mfilename\u001B[39m\u001B[38;5;124m'\u001B[39m])\n\u001B[0;32m      4\u001B[0m sample_mask  \u001B[38;5;241m=\u001B[39m read_nii(df_files\u001B[38;5;241m.\u001B[39mloc[sample,\u001B[38;5;124m'\u001B[39m\u001B[38;5;124mmask_dirname\u001B[39m\u001B[38;5;124m'\u001B[39m]\u001B[38;5;241m+\u001B[39m\u001B[38;5;124m\"\u001B[39m\u001B[38;5;124m/\u001B[39m\u001B[38;5;124m\"\u001B[39m\u001B[38;5;241m+\u001B[39mdf_files\u001B[38;5;241m.\u001B[39mloc[sample,\u001B[38;5;124m'\u001B[39m\u001B[38;5;124mmask_filename\u001B[39m\u001B[38;5;124m'\u001B[39m])\n\u001B[0;32m      5\u001B[0m \u001B[38;5;28mprint\u001B[39m(sample_ct\u001B[38;5;241m.\u001B[39mshape) \n",
      "File \u001B[1;32m~\\PycharmProjects\\pythonProject4\\venv\\lib\\site-packages\\pandas\\core\\indexing.py:1183\u001B[0m, in \u001B[0;36m_LocationIndexer.__getitem__\u001B[1;34m(self, key)\u001B[0m\n\u001B[0;32m   1181\u001B[0m     key \u001B[38;5;241m=\u001B[39m \u001B[38;5;28mtuple\u001B[39m(com\u001B[38;5;241m.\u001B[39mapply_if_callable(x, \u001B[38;5;28mself\u001B[39m\u001B[38;5;241m.\u001B[39mobj) \u001B[38;5;28;01mfor\u001B[39;00m x \u001B[38;5;129;01min\u001B[39;00m key)\n\u001B[0;32m   1182\u001B[0m     \u001B[38;5;28;01mif\u001B[39;00m \u001B[38;5;28mself\u001B[39m\u001B[38;5;241m.\u001B[39m_is_scalar_access(key):\n\u001B[1;32m-> 1183\u001B[0m         \u001B[38;5;28;01mreturn\u001B[39;00m \u001B[38;5;28;43mself\u001B[39;49m\u001B[38;5;241;43m.\u001B[39;49m\u001B[43mobj\u001B[49m\u001B[38;5;241;43m.\u001B[39;49m\u001B[43m_get_value\u001B[49m\u001B[43m(\u001B[49m\u001B[38;5;241;43m*\u001B[39;49m\u001B[43mkey\u001B[49m\u001B[43m,\u001B[49m\u001B[43m \u001B[49m\u001B[43mtakeable\u001B[49m\u001B[38;5;241;43m=\u001B[39;49m\u001B[38;5;28;43mself\u001B[39;49m\u001B[38;5;241;43m.\u001B[39;49m\u001B[43m_takeable\u001B[49m\u001B[43m)\u001B[49m\n\u001B[0;32m   1184\u001B[0m     \u001B[38;5;28;01mreturn\u001B[39;00m \u001B[38;5;28mself\u001B[39m\u001B[38;5;241m.\u001B[39m_getitem_tuple(key)\n\u001B[0;32m   1185\u001B[0m \u001B[38;5;28;01melse\u001B[39;00m:\n\u001B[0;32m   1186\u001B[0m     \u001B[38;5;66;03m# we by definition only have the 0th axis\u001B[39;00m\n",
      "File \u001B[1;32m~\\PycharmProjects\\pythonProject4\\venv\\lib\\site-packages\\pandas\\core\\frame.py:4221\u001B[0m, in \u001B[0;36mDataFrame._get_value\u001B[1;34m(self, index, col, takeable)\u001B[0m\n\u001B[0;32m   4215\u001B[0m engine \u001B[38;5;241m=\u001B[39m \u001B[38;5;28mself\u001B[39m\u001B[38;5;241m.\u001B[39mindex\u001B[38;5;241m.\u001B[39m_engine\n\u001B[0;32m   4217\u001B[0m \u001B[38;5;28;01mif\u001B[39;00m \u001B[38;5;129;01mnot\u001B[39;00m \u001B[38;5;28misinstance\u001B[39m(\u001B[38;5;28mself\u001B[39m\u001B[38;5;241m.\u001B[39mindex, MultiIndex):\n\u001B[0;32m   4218\u001B[0m     \u001B[38;5;66;03m# CategoricalIndex: Trying to use the engine fastpath may give incorrect\u001B[39;00m\n\u001B[0;32m   4219\u001B[0m     \u001B[38;5;66;03m#  results if our categories are integers that dont match our codes\u001B[39;00m\n\u001B[0;32m   4220\u001B[0m     \u001B[38;5;66;03m# IntervalIndex: IntervalTree has no get_loc\u001B[39;00m\n\u001B[1;32m-> 4221\u001B[0m     row \u001B[38;5;241m=\u001B[39m \u001B[38;5;28;43mself\u001B[39;49m\u001B[38;5;241;43m.\u001B[39;49m\u001B[43mindex\u001B[49m\u001B[38;5;241;43m.\u001B[39;49m\u001B[43mget_loc\u001B[49m\u001B[43m(\u001B[49m\u001B[43mindex\u001B[49m\u001B[43m)\u001B[49m\n\u001B[0;32m   4222\u001B[0m     \u001B[38;5;28;01mreturn\u001B[39;00m series\u001B[38;5;241m.\u001B[39m_values[row]\n\u001B[0;32m   4224\u001B[0m \u001B[38;5;66;03m# For MultiIndex going through engine effectively restricts us to\u001B[39;00m\n\u001B[0;32m   4225\u001B[0m \u001B[38;5;66;03m#  same-length tuples; see test_get_set_value_no_partial_indexing\u001B[39;00m\n",
      "File \u001B[1;32m~\\PycharmProjects\\pythonProject4\\venv\\lib\\site-packages\\pandas\\core\\indexes\\range.py:415\u001B[0m, in \u001B[0;36mRangeIndex.get_loc\u001B[1;34m(self, key)\u001B[0m\n\u001B[0;32m    413\u001B[0m         \u001B[38;5;28;01mreturn\u001B[39;00m \u001B[38;5;28mself\u001B[39m\u001B[38;5;241m.\u001B[39m_range\u001B[38;5;241m.\u001B[39mindex(new_key)\n\u001B[0;32m    414\u001B[0m     \u001B[38;5;28;01mexcept\u001B[39;00m \u001B[38;5;167;01mValueError\u001B[39;00m \u001B[38;5;28;01mas\u001B[39;00m err:\n\u001B[1;32m--> 415\u001B[0m         \u001B[38;5;28;01mraise\u001B[39;00m \u001B[38;5;167;01mKeyError\u001B[39;00m(key) \u001B[38;5;28;01mfrom\u001B[39;00m \u001B[38;5;21;01merr\u001B[39;00m\n\u001B[0;32m    416\u001B[0m \u001B[38;5;28;01mif\u001B[39;00m \u001B[38;5;28misinstance\u001B[39m(key, Hashable):\n\u001B[0;32m    417\u001B[0m     \u001B[38;5;28;01mraise\u001B[39;00m \u001B[38;5;167;01mKeyError\u001B[39;00m(key)\n",
      "\u001B[1;31mKeyError\u001B[0m: 0"
     ]
    }
   ],
   "source": [
    "# Read sample\n",
    "sample = 0\n",
    "sample_ct   = read_nii(df_files.loc[sample,'dirname']+\"/\"+df_files.loc[sample,'filename'])\n",
    "sample_mask  = read_nii(df_files.loc[sample,'mask_dirname']+\"/\"+df_files.loc[sample,'mask_filename'])\n",
    "print(sample_ct.shape) \n",
    "print(sample_mask.shape)\n",
    "print(df_files.loc[sample,'dirname']+\"/\"+df_files.loc[sample,'filename'])"
   ]
  },
  {
   "cell_type": "code",
   "execution_count": null,
   "id": "2d4146b1",
   "metadata": {
    "execution": {
     "iopub.execute_input": "2024-04-22T13:29:28.297298Z",
     "iopub.status.busy": "2024-04-22T13:29:28.296982Z",
     "iopub.status.idle": "2024-04-22T13:29:28.379492Z",
     "shell.execute_reply": "2024-04-22T13:29:28.378493Z"
    },
    "papermill": {
     "duration": 0.100425,
     "end_time": "2024-04-22T13:29:28.381535",
     "exception": false,
     "start_time": "2024-04-22T13:29:28.281110",
     "status": "completed"
    },
    "pycharm": {
     "name": "#%%\n"
    },
    "tags": []
   },
   "outputs": [],
   "source": [
    "print(np.amin(sample_ct), np.amax(sample_ct))\n",
    "print(np.amin(sample_mask), np.amax(sample_mask))"
   ]
  },
  {
   "cell_type": "code",
   "execution_count": null,
   "id": "09a440f0",
   "metadata": {
    "execution": {
     "iopub.execute_input": "2024-04-22T13:29:28.412477Z",
     "iopub.status.busy": "2024-04-22T13:29:28.412116Z",
     "iopub.status.idle": "2024-04-22T13:29:28.887215Z",
     "shell.execute_reply": "2024-04-22T13:29:28.886224Z"
    },
    "papermill": {
     "duration": 0.493994,
     "end_time": "2024-04-22T13:29:28.890482",
     "exception": false,
     "start_time": "2024-04-22T13:29:28.396488",
     "status": "completed"
    },
    "pycharm": {
     "name": "#%%\n"
    },
    "tags": []
   },
   "outputs": [],
   "source": [
    "# Preprocess the nii file \n",
    "# Source https://docs.fast.ai/medical.imaging\n",
    "\n",
    "dicom_windows = types.SimpleNamespace(\n",
    "    brain=(80,40),\n",
    "    subdural=(254,100),\n",
    "    stroke=(8,32),\n",
    "    brain_bone=(2800,600),\n",
    "    brain_soft=(375,40),\n",
    "    lungs=(1500,-600),\n",
    "    mediastinum=(350,50),\n",
    "    abdomen_soft=(400,50),\n",
    "    liver=(150,30),\n",
    "    spine_soft=(250,50),\n",
    "    spine_bone=(1800,400),\n",
    "    custom = (200,60)\n",
    ")\n",
    "\n",
    "@patch\n",
    "def windowed(self:Tensor, w, l):\n",
    "    px = self.clone()\n",
    "    px_min = l - w//2\n",
    "    px_max = l + w//2\n",
    "    px[px<px_min] = px_min\n",
    "    px[px>px_max] = px_max\n",
    "    return (px-px_min) / (px_max-px_min)\n",
    "\n",
    "plt.imshow(tensor(sample_ct[...,50].astype(np.float32)).windowed(*dicom_windows.liver), cmap=plt.cm.bone);"
   ]
  },
  {
   "cell_type": "code",
   "execution_count": null,
   "id": "a70a65d4",
   "metadata": {
    "execution": {
     "iopub.execute_input": "2024-04-22T13:29:28.924391Z",
     "iopub.status.busy": "2024-04-22T13:29:28.923995Z",
     "iopub.status.idle": "2024-04-22T13:29:28.932153Z",
     "shell.execute_reply": "2024-04-22T13:29:28.931256Z"
    },
    "papermill": {
     "duration": 0.027507,
     "end_time": "2024-04-22T13:29:28.934101",
     "exception": false,
     "start_time": "2024-04-22T13:29:28.906594",
     "status": "completed"
    },
    "pycharm": {
     "name": "#%%\n"
    },
    "tags": []
   },
   "outputs": [],
   "source": [
    "def plot_sample(array_list, color_map = 'nipy_spectral'):\n",
    "    '''\n",
    "    Plots and a slice with all available annotations\n",
    "    '''\n",
    "    fig = plt.figure(figsize=(18,15))\n",
    "\n",
    "    plt.subplot(1,4,1)\n",
    "    plt.imshow(array_list[0], cmap='bone')\n",
    "    plt.title('Original Image')\n",
    "    \n",
    "    plt.subplot(1,4,2)\n",
    "    plt.imshow(tensor(array_list[0].astype(np.float32)).windowed(*dicom_windows.liver), cmap='bone');\n",
    "    plt.title('Windowed Image')\n",
    "    \n",
    "    plt.subplot(1,4,3)\n",
    "    plt.imshow(array_list[1], alpha=0.5, cmap=color_map)\n",
    "    plt.title('Mask')\n",
    "    \n",
    "    plt.subplot(1,4,4)\n",
    "    plt.imshow(array_list[0], cmap='bone')\n",
    "    plt.imshow(array_list[1], alpha=0.5, cmap=color_map)\n",
    "    plt.title('Liver & Mask')\n",
    "\n",
    "\n",
    "    plt.show()"
   ]
  },
  {
   "cell_type": "code",
   "execution_count": null,
   "id": "e7cdadb8",
   "metadata": {
    "execution": {
     "iopub.execute_input": "2024-04-22T13:29:28.969880Z",
     "iopub.status.busy": "2024-04-22T13:29:28.969552Z",
     "iopub.status.idle": "2024-04-22T13:29:29.961508Z",
     "shell.execute_reply": "2024-04-22T13:29:29.960493Z"
    },
    "papermill": {
     "duration": 1.014351,
     "end_time": "2024-04-22T13:29:29.966197",
     "exception": false,
     "start_time": "2024-04-22T13:29:28.951846",
     "status": "completed"
    },
    "pycharm": {
     "name": "#%%\n"
    },
    "tags": []
   },
   "outputs": [],
   "source": [
    "sample=50\n",
    "sample_slice = tensor(sample_ct[...,sample].astype(np.float32))\n",
    "\n",
    "plot_sample([sample_ct[...,sample], sample_mask[...,sample]])"
   ]
  },
  {
   "cell_type": "code",
   "execution_count": null,
   "id": "a728924f",
   "metadata": {
    "execution": {
     "iopub.execute_input": "2024-04-22T13:29:30.026919Z",
     "iopub.status.busy": "2024-04-22T13:29:30.026022Z",
     "iopub.status.idle": "2024-04-22T13:29:30.040335Z",
     "shell.execute_reply": "2024-04-22T13:29:30.039219Z"
    },
    "papermill": {
     "duration": 0.045747,
     "end_time": "2024-04-22T13:29:30.042561",
     "exception": false,
     "start_time": "2024-04-22T13:29:29.996814",
     "status": "completed"
    },
    "pycharm": {
     "name": "#%%\n"
    },
    "tags": []
   },
   "outputs": [],
   "source": [
    "# Check the mask values\n",
    "mask = Image.fromarray(sample_mask[...,sample].astype('uint8'), mode=\"L\")\n",
    "unique, counts = np.unique(mask, return_counts=True)\n",
    "print( np.array((unique, counts)).T)"
   ]
  },
  {
   "cell_type": "code",
   "execution_count": null,
   "id": "1f1f2c60",
   "metadata": {
    "execution": {
     "iopub.execute_input": "2024-04-22T13:29:30.084205Z",
     "iopub.status.busy": "2024-04-22T13:29:30.083373Z",
     "iopub.status.idle": "2024-04-22T13:29:30.387915Z",
     "shell.execute_reply": "2024-04-22T13:29:30.386608Z"
    },
    "papermill": {
     "duration": 0.330548,
     "end_time": "2024-04-22T13:29:30.393175",
     "exception": false,
     "start_time": "2024-04-22T13:29:30.062627",
     "status": "completed"
    },
    "pycharm": {
     "name": "#%%\n"
    },
    "tags": []
   },
   "outputs": [],
   "source": [
    "# Preprocessing functions\n",
    "# Source https://docs.fast.ai/medical.imaging\n",
    "\n",
    "class TensorCTScan(TensorImageBW): _show_args = {'cmap':'bone'}\n",
    "\n",
    "@patch\n",
    "def freqhist_bins(self:Tensor, n_bins=100):\n",
    "    ''''\"A function to split the range of pixel values into groups, \n",
    "    such that each group has around the same number of pixels\"'''\n",
    "    imsd = self.view(-1).sort()[0]\n",
    "    t = torch.cat([tensor([0.001]),\n",
    "                   torch.arange(n_bins).float()/n_bins+(1/2/n_bins),\n",
    "                   tensor([0.999])])\n",
    "    t = (len(imsd)*t).long()\n",
    "    return imsd[t].unique()\n",
    "    \n",
    "@patch\n",
    "def hist_scaled(self:Tensor, brks=None):\n",
    "    \"Scales a tensor using `freqhist_bins` to values between 0 and 1\"\n",
    "    if self.device.type=='cuda': return self.hist_scaled_pt(brks)\n",
    "    if brks is None: brks = self.freqhist_bins()\n",
    "    ys = np.linspace(0., 1., len(brks))\n",
    "    x = self.numpy().flatten()\n",
    "    x = np.interp(x, brks.numpy(), ys)\n",
    "    return tensor(x).reshape(self.shape).clamp(0.,1.)\n",
    "    \n",
    "    \n",
    "@patch\n",
    "def to_nchan(x:Tensor, wins, bins=None):\n",
    "    res = [x.windowed(*win) for win in wins]\n",
    "    if not isinstance(bins,int) or bins!=0: res.append(x.hist_scaled(bins).clamp(0,1))\n",
    "    dim = [0,1][x.dim()==3]\n",
    "    return TensorCTScan(torch.stack(res, dim=dim))\n",
    "\n",
    "@patch\n",
    "def save_jpg(x:(Tensor), path, wins, bins=None, quality=90):\n",
    "    fn = Path(path).with_suffix('.jpg')\n",
    "    x = (x.to_nchan(wins, bins)*255).byte()\n",
    "    im = Image.fromarray(x.permute(1,2,0).numpy(), mode=['RGB','CMYK'][x.shape[0]==4])\n",
    "    im.save(fn, quality=quality)\n",
    "\n",
    "_,axs=subplots(1,1)\n",
    "\n",
    "sample_slice.save_jpg('test.jpg', [dicom_windows.liver,dicom_windows.custom])\n",
    "show_image(Image.open('test.jpg'), ax=axs[0])"
   ]
  },
  {
   "cell_type": "code",
   "execution_count": null,
   "id": "d1af23d1",
   "metadata": {
    "execution": {
     "iopub.execute_input": "2024-04-22T13:29:30.495734Z",
     "iopub.status.busy": "2024-04-22T13:29:30.495352Z",
     "iopub.status.idle": "2024-04-22T13:29:30.510371Z",
     "shell.execute_reply": "2024-04-22T13:29:30.509482Z"
    },
    "papermill": {
     "duration": 0.038912,
     "end_time": "2024-04-22T13:29:30.512423",
     "exception": false,
     "start_time": "2024-04-22T13:29:30.473511",
     "status": "completed"
    },
    "pycharm": {
     "name": "#%%\n"
    },
    "tags": []
   },
   "outputs": [],
   "source": [
    "df_files_1=df_files[0:30]\n",
    "df_files_1"
   ]
  },
  {
   "cell_type": "code",
   "execution_count": null,
   "id": "61f2877d",
   "metadata": {
    "execution": {
     "iopub.execute_input": "2024-04-22T13:29:30.557621Z",
     "iopub.status.busy": "2024-04-22T13:29:30.557282Z",
     "iopub.status.idle": "2024-04-22T13:43:22.336284Z",
     "shell.execute_reply": "2024-04-22T13:43:22.335264Z"
    },
    "papermill": {
     "duration": 831.828377,
     "end_time": "2024-04-22T13:43:22.363598",
     "exception": false,
     "start_time": "2024-04-22T13:29:30.535221",
     "status": "completed"
    },
    "pycharm": {
     "name": "#%%\n"
    },
    "tags": []
   },
   "outputs": [],
   "source": [
    "import random\n",
    "\n",
    "GENERATE_JPG_FILES = True   # warning: generation takes ~ 1h\n",
    "\n",
    "if GENERATE_JPG_FILES:\n",
    "    path = Path(\".\")\n",
    "\n",
    "    os.makedirs('train_images', exist_ok=True)\n",
    "    os.makedirs('train_masks', exist_ok=True)\n",
    "\n",
    "    # Randomly select 1/3 of the indices\n",
    "    random_indices = random.sample(range(len(df_files)), len(df_files) // 2)\n",
    "\n",
    "    for ii in tqdm(random_indices):  # take 1/3 nii files for training\n",
    "        curr_ct = read_nii(df_files.loc[ii, 'dirname'] + \"/\" + df_files.loc[ii, 'filename'])\n",
    "        curr_mask = read_nii(df_files.loc[ii, 'mask_dirname'] + \"/\" + df_files.loc[ii, 'mask_filename'])\n",
    "        curr_file_name = str(df_files.loc[ii, 'filename']).split('.')[0]\n",
    "        curr_dim = curr_ct.shape[2]  # 512, 512, curr_dim\n",
    "\n",
    "        for curr_slice in range(0, curr_dim, 2):  # export every 2nd slice for training\n",
    "            data = tensor(curr_ct[..., curr_slice].astype(np.float32))\n",
    "            mask = Image.fromarray(curr_mask[..., curr_slice].astype('uint8'), mode=\"L\")\n",
    "            data.save_jpg(f\"train_images/{curr_file_name}_slice_{curr_slice}.jpg\", [dicom_windows.liver, dicom_windows.custom])\n",
    "            mask.save(f\"train_masks/{curr_file_name}_slice_{curr_slice}_mask.png\")\n",
    "else:\n",
    "    path = Path(\"../input/liver-segmentation-with-fastai-v2\")  # read jpg from saved kernel output\n"
   ]
  },
  {
   "cell_type": "code",
   "execution_count": null,
   "id": "53bce157",
   "metadata": {
    "execution": {
     "iopub.execute_input": "2024-04-22T13:43:22.412048Z",
     "iopub.status.busy": "2024-04-22T13:43:22.411307Z",
     "iopub.status.idle": "2024-04-22T13:44:51.777370Z",
     "shell.execute_reply": "2024-04-22T13:44:51.776504Z"
    },
    "papermill": {
     "duration": 89.393187,
     "end_time": "2024-04-22T13:44:51.779891",
     "exception": false,
     "start_time": "2024-04-22T13:43:22.386704",
     "status": "completed"
    },
    "pycharm": {
     "name": "#%%\n"
    },
    "tags": []
   },
   "outputs": [],
   "source": [
    "import os\n",
    "import random\n",
    "import numpy as np\n",
    "import tensorflow as tf\n",
    "from tensorflow import keras\n",
    "from tensorflow.keras import layers\n",
    "from PIL import Image\n",
    "from sklearn.model_selection import train_test_split\n",
    "\n",
    "# Set the directories\n",
    "images_dir = 'train_images'\n",
    "masks_dir = 'train_masks'\n",
    "\n",
    "# Get the list of image file names\n",
    "all_image_file_names = sorted(os.listdir(images_dir))\n",
    "\n",
    "# Randomly select 9000 images\n",
    "selected_image_file_names = random.sample(all_image_file_names, 9000)\n",
    "\n",
    "# Load selected images and masks with resizing\n",
    "target_size = (128, 128)\n",
    "images = [np.array(Image.open(os.path.join(images_dir, fname)).resize(target_size)) for fname in selected_image_file_names]\n",
    "\n",
    "# Adjust file extension for masks\n",
    "mask_file_names = [fname.replace('.jpg', '_mask.png') for fname in selected_image_file_names]\n",
    "masks = [np.array(Image.open(os.path.join(masks_dir, fname)).resize(target_size)) for fname in mask_file_names]\n",
    "\n",
    "# Convert the lists to numpy arrays\n",
    "images = np.array(images)\n",
    "masks = np.array(masks)\n",
    "\n",
    "# Normalize images to [0, 1]\n",
    "images = images / 255.0\n",
    "\n",
    "# Reshape masks to include a channel dimension\n",
    "masks = masks.reshape((masks.shape[0], masks.shape[1], masks.shape[2], 1))\n"
   ]
  },
  {
   "cell_type": "code",
   "execution_count": null,
   "id": "24714b7b",
   "metadata": {
    "execution": {
     "iopub.execute_input": "2024-04-22T13:44:51.828625Z",
     "iopub.status.busy": "2024-04-22T13:44:51.827312Z",
     "iopub.status.idle": "2024-04-22T13:44:54.298050Z",
     "shell.execute_reply": "2024-04-22T13:44:54.296973Z"
    },
    "papermill": {
     "duration": 2.497961,
     "end_time": "2024-04-22T13:44:54.300692",
     "exception": false,
     "start_time": "2024-04-22T13:44:51.802731",
     "status": "completed"
    },
    "pycharm": {
     "name": "#%%\n"
    },
    "tags": []
   },
   "outputs": [],
   "source": [
    "# Split the data into training, validation, and test sets\n",
    "# 70% training, 20% validation, 10% test\n",
    "x_train, x_temp, y_train, y_temp = train_test_split(images, masks, test_size=0.3, random_state=42)\n",
    "x_valid, x_test, y_valid, y_test = train_test_split(x_temp, y_temp, test_size=1/3, random_state=42)"
   ]
  },
  {
   "cell_type": "code",
   "execution_count": null,
   "id": "3dc899d0",
   "metadata": {
    "execution": {
     "iopub.execute_input": "2024-04-22T13:44:54.349569Z",
     "iopub.status.busy": "2024-04-22T13:44:54.348855Z",
     "iopub.status.idle": "2024-04-22T13:44:54.781653Z",
     "shell.execute_reply": "2024-04-22T13:44:54.780721Z"
    },
    "papermill": {
     "duration": 0.460565,
     "end_time": "2024-04-22T13:44:54.785151",
     "exception": false,
     "start_time": "2024-04-22T13:44:54.324586",
     "status": "completed"
    },
    "pycharm": {
     "name": "#%%\n"
    },
    "tags": []
   },
   "outputs": [],
   "source": [
    "import matplotlib.pyplot as plt\n",
    "\n",
    "# Function to display images and masks\n",
    "def display_images_and_masks(images, masks, num_samples=2):\n",
    "    # Randomly select samples\n",
    "    sample_indices = random.sample(range(images.shape[0]), num_samples)\n",
    "\n",
    "    for i in range(num_samples):\n",
    "        index = sample_indices[i]\n",
    "\n",
    "        # Display the image\n",
    "        plt.subplot(num_samples, 2, 2 * i + 1)\n",
    "        plt.imshow(images[index])\n",
    "        plt.title(\"Image {}\".format(index))\n",
    "        plt.axis(\"off\")\n",
    "\n",
    "        # Display the mask\n",
    "        plt.subplot(num_samples, 2, 2 * i + 2)\n",
    "        plt.imshow(masks[index].squeeze(), cmap='gray')\n",
    "        plt.title(\"Mask {}\".format(index))\n",
    "        plt.axis(\"off\")\n",
    "\n",
    "    plt.show()\n",
    "\n",
    "# Display two random images and masks\n",
    "display_images_and_masks(x_train, y_train)"
   ]
  },
  {
   "cell_type": "code",
   "execution_count": null,
   "id": "b5a2cb85",
   "metadata": {
    "execution": {
     "iopub.execute_input": "2024-04-22T13:44:54.838006Z",
     "iopub.status.busy": "2024-04-22T13:44:54.837645Z",
     "iopub.status.idle": "2024-04-22T13:44:54.844080Z",
     "shell.execute_reply": "2024-04-22T13:44:54.843185Z"
    },
    "papermill": {
     "duration": 0.035285,
     "end_time": "2024-04-22T13:44:54.845979",
     "exception": false,
     "start_time": "2024-04-22T13:44:54.810694",
     "status": "completed"
    },
    "pycharm": {
     "name": "#%%\n"
    },
    "tags": []
   },
   "outputs": [],
   "source": [
    "y_train.shape, x_train.shape"
   ]
  },
  {
   "cell_type": "code",
   "execution_count": null,
   "id": "4f75e7bf",
   "metadata": {
    "execution": {
     "iopub.execute_input": "2024-04-22T13:44:54.897581Z",
     "iopub.status.busy": "2024-04-22T13:44:54.896738Z",
     "iopub.status.idle": "2024-04-22T13:44:56.370761Z",
     "shell.execute_reply": "2024-04-22T13:44:56.369830Z"
    },
    "papermill": {
     "duration": 1.502244,
     "end_time": "2024-04-22T13:44:56.372841",
     "exception": false,
     "start_time": "2024-04-22T13:44:54.870597",
     "status": "completed"
    },
    "pycharm": {
     "name": "#%%\n"
    },
    "tags": []
   },
   "outputs": [],
   "source": [
    "from tensorflow import keras\n",
    "from tensorflow.keras import layers\n",
    "\n",
    "def create_fcn_model(input_shape=(128, 128, 3), target_shape=(128, 128, 1)):\n",
    "    model = keras.Sequential()\n",
    "\n",
    "    # Encoder\n",
    "    model.add(layers.Conv2D(64, (3, 3), activation='relu', padding='same', input_shape=input_shape))\n",
    "    model.add(layers.BatchNormalization())\n",
    "    model.add(layers.Conv2D(64, (3, 3), activation='relu', padding='same'))\n",
    "    model.add(layers.BatchNormalization())\n",
    "    model.add(layers.MaxPooling2D((2, 2)))\n",
    "\n",
    "    model.add(layers.Conv2D(128, (3, 3), activation='relu', padding='same'))\n",
    "    model.add(layers.BatchNormalization())\n",
    "    model.add(layers.Conv2D(128, (3, 3), activation='relu', padding='same'))\n",
    "    model.add(layers.BatchNormalization())\n",
    "    model.add(layers.MaxPooling2D((2, 2)))\n",
    "\n",
    "    model.add(layers.Conv2D(256, (3, 3), activation='relu', padding='same'))\n",
    "    model.add(layers.BatchNormalization())\n",
    "    model.add(layers.Conv2D(256, (3, 3), activation='relu', padding='same'))\n",
    "    model.add(layers.BatchNormalization())\n",
    "    model.add(layers.MaxPooling2D((2, 2)))\n",
    "\n",
    "    # Decoder with Skip Connections\n",
    "    model.add(layers.UpSampling2D((2, 2)))\n",
    "    model.add(layers.Conv2D(128, (3, 3), activation='relu', padding='same'))\n",
    "    model.add(layers.BatchNormalization())\n",
    "\n",
    "    model.add(layers.UpSampling2D((2, 2)))\n",
    "    model.add(layers.Conv2D(64, (3, 3), activation='relu', padding='same'))\n",
    "    model.add(layers.BatchNormalization())\n",
    "\n",
    "    model.add(layers.UpSampling2D((2, 2)))\n",
    "    model.add(layers.Conv2D(32, (3, 3), activation='relu', padding='same'))\n",
    "    model.add(layers.BatchNormalization())\n",
    "\n",
    "    # Output layer\n",
    "    model.add(layers.Conv2D(1, (1, 1), activation='sigmoid'))  # Assuming binary classification\n",
    "\n",
    "    # Crop to match the target shape\n",
    "    crop_height = (model.output_shape[1] - target_shape[0]) // 2\n",
    "    crop_width = (model.output_shape[2] - target_shape[1]) // 2\n",
    "    model.add(layers.Cropping2D(cropping=((crop_height, crop_height), (crop_width, crop_width))))\n",
    "\n",
    "    return model\n",
    "# Create the FCN model\n",
    "model = create_fcn_model()\n",
    "\n",
    "# Display the model summary\n",
    "model.summary()\n",
    "model.save('fcn_model.h5')"
   ]
  },
  {
   "cell_type": "code",
   "execution_count": null,
   "id": "9ebc39a1",
   "metadata": {
    "execution": {
     "iopub.execute_input": "2024-04-22T13:44:56.436979Z",
     "iopub.status.busy": "2024-04-22T13:44:56.436629Z",
     "iopub.status.idle": "2024-04-22T13:44:56.442506Z",
     "shell.execute_reply": "2024-04-22T13:44:56.441588Z"
    },
    "papermill": {
     "duration": 0.040618,
     "end_time": "2024-04-22T13:44:56.444545",
     "exception": false,
     "start_time": "2024-04-22T13:44:56.403927",
     "status": "completed"
    },
    "pycharm": {
     "name": "#%%\n"
    },
    "tags": []
   },
   "outputs": [],
   "source": [
    "def jaccard_distance(y_true, y_pred, smooth=100):\n",
    "    \"\"\" Calculates mean of Jaccard distance as a loss function \"\"\"\n",
    "    intersection = tf.reduce_sum(y_true * y_pred, axis=(1,2))\n",
    "    union = tf.reduce_sum(y_true + y_pred, axis=(1,2))\n",
    "    jac = (intersection + smooth) / (union - intersection + smooth)\n",
    "    jd =  (1 - jac) * smooth\n",
    "    return tf.reduce_mean(jd)"
   ]
  },
  {
   "cell_type": "code",
   "execution_count": null,
   "id": "34a4e869",
   "metadata": {
    "execution": {
     "iopub.execute_input": "2024-04-22T13:44:56.508265Z",
     "iopub.status.busy": "2024-04-22T13:44:56.507306Z",
     "iopub.status.idle": "2024-04-22T13:44:56.512805Z",
     "shell.execute_reply": "2024-04-22T13:44:56.511939Z"
    },
    "papermill": {
     "duration": 0.039624,
     "end_time": "2024-04-22T13:44:56.514849",
     "exception": false,
     "start_time": "2024-04-22T13:44:56.475225",
     "status": "completed"
    },
    "pycharm": {
     "name": "#%%\n"
    },
    "tags": []
   },
   "outputs": [],
   "source": [
    "import tensorflow as tf\n",
    "\n",
    "def volume_intersection(y_true, y_pred):\n",
    "    return tf.reduce_sum(y_true * y_pred, axis=(1,2))\n",
    "\n",
    "def volume_union(y_true, y_pred):\n",
    "    return tf.reduce_sum(y_true + y_pred, axis=(1,2))"
   ]
  },
  {
   "cell_type": "code",
   "execution_count": null,
   "id": "85a253a9",
   "metadata": {
    "execution": {
     "iopub.execute_input": "2024-04-22T13:44:56.576815Z",
     "iopub.status.busy": "2024-04-22T13:44:56.576135Z",
     "iopub.status.idle": "2024-04-22T13:44:56.588199Z",
     "shell.execute_reply": "2024-04-22T13:44:56.587428Z"
    },
    "papermill": {
     "duration": 0.045395,
     "end_time": "2024-04-22T13:44:56.590240",
     "exception": false,
     "start_time": "2024-04-22T13:44:56.544845",
     "status": "completed"
    },
    "pycharm": {
     "name": "#%%\n"
    },
    "tags": []
   },
   "outputs": [],
   "source": [
    "from tensorflow.keras.callbacks import ReduceLROnPlateau\n",
    "\n",
    "checkpoint = tf.keras.callbacks.ModelCheckpoint(\"fcn_model.h5\", monitor='val_loss', verbose=1, patience = 3,save_best_only=True,\n",
    "                                                save_weights_only=True, mode='auto')\n",
    "reduce_lr = ReduceLROnPlateau(monitor='val_loss', factor=0.2, patience=5, min_lr=1e-6)\n",
    "tensorboard_callback = tf.keras.callbacks.TensorBoard(log_dir='./logs', histogram_freq=1)"
   ]
  },
  {
   "cell_type": "code",
   "execution_count": null,
   "id": "9d355a6e",
   "metadata": {
    "execution": {
     "iopub.execute_input": "2024-04-22T13:44:56.652876Z",
     "iopub.status.busy": "2024-04-22T13:44:56.652539Z",
     "iopub.status.idle": "2024-04-22T13:44:56.673084Z",
     "shell.execute_reply": "2024-04-22T13:44:56.672009Z"
    },
    "papermill": {
     "duration": 0.054269,
     "end_time": "2024-04-22T13:44:56.675438",
     "exception": false,
     "start_time": "2024-04-22T13:44:56.621169",
     "status": "completed"
    },
    "pycharm": {
     "name": "#%%\n"
    },
    "tags": []
   },
   "outputs": [],
   "source": [
    "from tensorflow.keras.optimizers import Adam\n",
    "# Compile the model [0.001,0001, 6e-e]\n",
    "model.compile(optimizer=Adam(lr=.001),loss='binary_crossentropy',\n",
    "              metrics=[jaccard_distance])"
   ]
  },
  {
   "cell_type": "code",
   "execution_count": null,
   "id": "106f8105",
   "metadata": {
    "execution": {
     "iopub.execute_input": "2024-04-22T13:44:56.739786Z",
     "iopub.status.busy": "2024-04-22T13:44:56.738771Z",
     "iopub.status.idle": "2024-04-22T13:48:11.299402Z",
     "shell.execute_reply": "2024-04-22T13:48:11.298507Z"
    },
    "papermill": {
     "duration": 194.595375,
     "end_time": "2024-04-22T13:48:11.301911",
     "exception": false,
     "start_time": "2024-04-22T13:44:56.706536",
     "status": "completed"
    },
    "pycharm": {
     "name": "#%%\n"
    },
    "tags": []
   },
   "outputs": [],
   "source": [
    "# Train the model\n",
    "history = model.fit(x_train, y_train, epochs=5, batch_size=16,\n",
    "          validation_data=(x_valid, y_valid), callbacks=[reduce_lr,checkpoint])\n",
    "model.save('fcn_model.h5')"
   ]
  },
  {
   "cell_type": "code",
   "execution_count": null,
   "id": "8bab4a05",
   "metadata": {
    "execution": {
     "iopub.execute_input": "2024-04-22T13:48:11.689520Z",
     "iopub.status.busy": "2024-04-22T13:48:11.688524Z",
     "iopub.status.idle": "2024-04-22T13:48:11.967024Z",
     "shell.execute_reply": "2024-04-22T13:48:11.966000Z"
    },
    "papermill": {
     "duration": 0.4738,
     "end_time": "2024-04-22T13:48:11.969478",
     "exception": false,
     "start_time": "2024-04-22T13:48:11.495678",
     "status": "completed"
    },
    "pycharm": {
     "name": "#%%\n"
    },
    "tags": []
   },
   "outputs": [],
   "source": [
    "import matplotlib.pyplot as plt\n",
    "def show_history(history, train, validation):\n",
    "    plt.plot(history.history[train])\n",
    "    plt.plot(history.history[validation])\n",
    "    plt.title('Train History')\n",
    "    plt.ylabel('train') \n",
    "    plt.xlabel('Epoch')\n",
    "    plt.legend(['train', 'validation'], loc='center right')\n",
    "    plt.show()\n",
    "show_history(history, 'jaccard_distance', 'val_jaccard_distance')"
   ]
  },
  {
   "cell_type": "code",
   "execution_count": null,
   "id": "4a18fe8a",
   "metadata": {
    "execution": {
     "iopub.execute_input": "2024-04-22T13:48:12.362851Z",
     "iopub.status.busy": "2024-04-22T13:48:12.362013Z",
     "iopub.status.idle": "2024-04-22T13:48:12.670189Z",
     "shell.execute_reply": "2024-04-22T13:48:12.669132Z"
    },
    "papermill": {
     "duration": 0.507562,
     "end_time": "2024-04-22T13:48:12.672274",
     "exception": false,
     "start_time": "2024-04-22T13:48:12.164712",
     "status": "completed"
    },
    "pycharm": {
     "name": "#%%\n"
    },
    "tags": []
   },
   "outputs": [],
   "source": [
    "show_history(history, 'loss', 'val_loss')"
   ]
  },
  {
   "cell_type": "code",
   "execution_count": null,
   "id": "adb4d17e",
   "metadata": {
    "execution": {
     "iopub.execute_input": "2024-04-22T13:48:13.069161Z",
     "iopub.status.busy": "2024-04-22T13:48:13.068798Z",
     "iopub.status.idle": "2024-04-22T13:48:19.013903Z",
     "shell.execute_reply": "2024-04-22T13:48:19.012958Z"
    },
    "papermill": {
     "duration": 6.145982,
     "end_time": "2024-04-22T13:48:19.016118",
     "exception": false,
     "start_time": "2024-04-22T13:48:12.870136",
     "status": "completed"
    },
    "pycharm": {
     "name": "#%%\n"
    },
    "tags": []
   },
   "outputs": [],
   "source": [
    "scores = model.evaluate(x_valid, y_valid)\n",
    "scores[1]"
   ]
  },
  {
   "cell_type": "code",
   "execution_count": null,
   "id": "25b34316",
   "metadata": {
    "execution": {
     "iopub.execute_input": "2024-04-22T13:48:19.420514Z",
     "iopub.status.busy": "2024-04-22T13:48:19.420116Z",
     "iopub.status.idle": "2024-04-22T13:48:22.299404Z",
     "shell.execute_reply": "2024-04-22T13:48:22.298519Z"
    },
    "papermill": {
     "duration": 3.084893,
     "end_time": "2024-04-22T13:48:22.301917",
     "exception": false,
     "start_time": "2024-04-22T13:48:19.217024",
     "status": "completed"
    },
    "pycharm": {
     "name": "#%%\n"
    },
    "tags": []
   },
   "outputs": [],
   "source": [
    "prediction = model.predict(x_test)\n",
    "#print(prediction)\n",
    "#print(y_test)"
   ]
  },
  {
   "cell_type": "code",
   "execution_count": null,
   "id": "23698bf4",
   "metadata": {
    "execution": {
     "iopub.execute_input": "2024-04-22T13:48:22.770925Z",
     "iopub.status.busy": "2024-04-22T13:48:22.770544Z",
     "iopub.status.idle": "2024-04-22T13:48:24.664380Z",
     "shell.execute_reply": "2024-04-22T13:48:24.663375Z"
    },
    "papermill": {
     "duration": 2.102752,
     "end_time": "2024-04-22T13:48:24.666426",
     "exception": false,
     "start_time": "2024-04-22T13:48:22.563674",
     "status": "completed"
    },
    "pycharm": {
     "name": "#%%\n"
    },
    "tags": []
   },
   "outputs": [],
   "source": [
    "test_scores = model.evaluate(x_test, y_test)\n",
    "test_scores[1]"
   ]
  },
  {
   "cell_type": "code",
   "execution_count": null,
   "id": "1f041712",
   "metadata": {
    "execution": {
     "iopub.execute_input": "2024-04-22T13:48:25.076824Z",
     "iopub.status.busy": "2024-04-22T13:48:25.076125Z",
     "iopub.status.idle": "2024-04-22T13:48:26.490073Z",
     "shell.execute_reply": "2024-04-22T13:48:26.489011Z"
    },
    "papermill": {
     "duration": 1.622006,
     "end_time": "2024-04-22T13:48:26.492832",
     "exception": false,
     "start_time": "2024-04-22T13:48:24.870826",
     "status": "completed"
    },
    "pycharm": {
     "name": "#%%\n"
    },
    "tags": []
   },
   "outputs": [],
   "source": [
    "import numpy as np\n",
    "import matplotlib.pyplot as plt\n",
    "\n",
    "# Assuming you have x_test and y_test\n",
    "# Replace this with the actual index of the image you want to visualize\n",
    "image_index = 44\n",
    "\n",
    "# Load the image and true mask\n",
    "input_image = x_test[image_index]\n",
    "true_mask = y_test[image_index]\n",
    "\n",
    "# Obtain the predicted mask from model2\n",
    "predicted_mask = model.predict(np.expand_dims(input_image, axis=0))[0]\n",
    "\n",
    "# Threshold the predicted mask (assuming it's a binary mask)\n",
    "threshold = 0.5  # Adjust this threshold based on your model's output\n",
    "predicted_mask_binary = (predicted_mask > threshold).astype(np.uint8)\n",
    "\n",
    "# Plotting\n",
    "plt.figure(figsize=(12, 4))\n",
    "\n",
    "# Plot original image\n",
    "plt.subplot(1, 3, 1)\n",
    "plt.imshow(input_image)\n",
    "plt.title('Original Image')\n",
    "\n",
    "# Plot true mask\n",
    "plt.subplot(1, 3, 2)\n",
    "plt.imshow(true_mask[:, :, 0], cmap='gray')\n",
    "plt.title('True Mask')\n",
    "\n",
    "# Plot predicted mask\n",
    "plt.subplot(1, 3, 3)\n",
    "plt.imshow(predicted_mask_binary[:, :, 0], cmap='gray')\n",
    "plt.title('Predicted Mask')\n",
    "\n",
    "plt.show()\n"
   ]
  },
  {
   "cell_type": "code",
   "execution_count": null,
   "id": "cffff10e",
   "metadata": {
    "execution": {
     "iopub.execute_input": "2024-04-22T13:48:26.898763Z",
     "iopub.status.busy": "2024-04-22T13:48:26.898086Z",
     "iopub.status.idle": "2024-04-22T13:48:27.177782Z",
     "shell.execute_reply": "2024-04-22T13:48:27.176735Z"
    },
    "papermill": {
     "duration": 0.483339,
     "end_time": "2024-04-22T13:48:27.180203",
     "exception": false,
     "start_time": "2024-04-22T13:48:26.696864",
     "status": "completed"
    },
    "pycharm": {
     "name": "#%%\n"
    },
    "tags": []
   },
   "outputs": [],
   "source": [
    "import tensorflow.keras.backend as K\n",
    "import tensorflow as tf\n",
    "from tensorflow.keras.models import Model\n",
    "from tensorflow.keras.metrics import MeanIoU\n",
    "from tensorflow.keras.layers import Input, Conv2D, MaxPooling2D, UpSampling2D, concatenate\n",
    "\n",
    "# U-Net model architecture for liver segmentation\n",
    "def unet_model(input_shape=(128, 128, 3)):\n",
    "    inputs = Input(input_shape)\n",
    "\n",
    "    # Encoder\n",
    "    conv1 = Conv2D(32, (3, 3), activation='relu', padding='same')(inputs)\n",
    "    conv1 = Conv2D(32, (3, 3), activation='relu', padding='same')(conv1)\n",
    "    pool1 = MaxPooling2D(pool_size=(2, 2))(conv1)\n",
    "\n",
    "    conv2 = Conv2D(64, (3, 3), activation='relu', padding='same')(pool1)\n",
    "    conv2 = Conv2D(64, (3, 3), activation='relu', padding='same')(conv2)\n",
    "    pool2 = MaxPooling2D(pool_size=(2, 2))(conv2)\n",
    "\n",
    "    # Middle\n",
    "    conv3 = Conv2D(128, (3, 3), activation='relu', padding='same')(pool2)\n",
    "    conv3 = Conv2D(128, (3, 3), activation='relu', padding='same')(conv3)\n",
    "\n",
    "    # Decoder\n",
    "    up4 = UpSampling2D(size=(2, 2))(conv3)\n",
    "    up4 = Conv2D(64, (3, 3), activation='relu', padding='same')(up4)\n",
    "    up4 = Conv2D(64, (3, 3), activation='relu', padding='same')(up4)\n",
    "    merge4 = concatenate([conv2, up4], axis=3)\n",
    "\n",
    "    up5 = UpSampling2D(size=(2, 2))(merge4)\n",
    "    up5 = Conv2D(32, (3, 3), activation='relu', padding='same')(up5)\n",
    "    up5 = Conv2D(32, (3, 3), activation='relu', padding='same')(up5)\n",
    "    merge5 = concatenate([conv1, up5], axis=3)\n",
    "\n",
    "    # Output layer\n",
    "    outputs = Conv2D(1, (1, 1), activation='sigmoid')(merge5)\n",
    "\n",
    "    model1 = Model(inputs=inputs, outputs=outputs)\n",
    "\n",
    "    return model1\n",
    "\n",
    "# Build the U-Net model\n",
    "model1 = unet_model()\n",
    "\n",
    "# Display the model summary\n",
    "model1.summary()\n",
    "model1.save('unet_model.h5')"
   ]
  },
  {
   "cell_type": "code",
   "execution_count": null,
   "id": "40275e17",
   "metadata": {
    "execution": {
     "iopub.execute_input": "2024-04-22T13:48:27.595585Z",
     "iopub.status.busy": "2024-04-22T13:48:27.594779Z",
     "iopub.status.idle": "2024-04-22T13:48:27.599916Z",
     "shell.execute_reply": "2024-04-22T13:48:27.599126Z"
    },
    "papermill": {
     "duration": 0.211844,
     "end_time": "2024-04-22T13:48:27.601917",
     "exception": false,
     "start_time": "2024-04-22T13:48:27.390073",
     "status": "completed"
    },
    "pycharm": {
     "name": "#%%\n"
    },
    "tags": []
   },
   "outputs": [],
   "source": [
    "from tensorflow.keras.utils import plot_model\n",
    "#tf.keras.utils.plot_model(model1, show_shapes=True)\n",
    "# Assuming you have created the model using the create_fcn_model function\n",
    "#model1 = create_unet_model()\n",
    "\n",
    "# Save the model architecture plot to a file\n",
    "#plot_model(model1, to_file='unet_model.png', show_shapes=False)"
   ]
  },
  {
   "cell_type": "code",
   "execution_count": null,
   "id": "cca9ca44",
   "metadata": {
    "execution": {
     "iopub.execute_input": "2024-04-22T13:48:28.019319Z",
     "iopub.status.busy": "2024-04-22T13:48:28.018915Z",
     "iopub.status.idle": "2024-04-22T13:48:28.024102Z",
     "shell.execute_reply": "2024-04-22T13:48:28.023099Z"
    },
    "papermill": {
     "duration": 0.215352,
     "end_time": "2024-04-22T13:48:28.026261",
     "exception": false,
     "start_time": "2024-04-22T13:48:27.810909",
     "status": "completed"
    },
    "pycharm": {
     "name": "#%%\n"
    },
    "tags": []
   },
   "outputs": [],
   "source": [
    "checkpoint = tf.keras.callbacks.ModelCheckpoint(\"unet_model.h5\", monitor='val_loss', verbose=1, patience = 3,save_best_only=True,\n",
    "                                                mode='auto')"
   ]
  },
  {
   "cell_type": "code",
   "execution_count": null,
   "id": "dce3ec96",
   "metadata": {
    "execution": {
     "iopub.execute_input": "2024-04-22T13:48:28.444231Z",
     "iopub.status.busy": "2024-04-22T13:48:28.443865Z",
     "iopub.status.idle": "2024-04-22T13:48:28.455943Z",
     "shell.execute_reply": "2024-04-22T13:48:28.455173Z"
    },
    "papermill": {
     "duration": 0.222769,
     "end_time": "2024-04-22T13:48:28.457959",
     "exception": false,
     "start_time": "2024-04-22T13:48:28.235190",
     "status": "completed"
    },
    "pycharm": {
     "name": "#%%\n"
    },
    "tags": []
   },
   "outputs": [],
   "source": [
    "from tensorflow.keras.optimizers import Adam\n",
    "# Compile the model [0.001,0001, 6e-e]\n",
    "model1.compile(optimizer=Adam(lr=0.001, beta_1=0.9, beta_2=0.999),\n",
    "              loss= 'mean_absolute_error', metrics=[jaccard_distance])"
   ]
  },
  {
   "cell_type": "code",
   "execution_count": null,
   "id": "a7f57ebe",
   "metadata": {
    "execution": {
     "iopub.execute_input": "2024-04-22T13:48:28.873979Z",
     "iopub.status.busy": "2024-04-22T13:48:28.873094Z",
     "iopub.status.idle": "2024-04-22T13:50:48.191068Z",
     "shell.execute_reply": "2024-04-22T13:50:48.189831Z"
    },
    "papermill": {
     "duration": 139.530071,
     "end_time": "2024-04-22T13:50:48.193829",
     "exception": false,
     "start_time": "2024-04-22T13:48:28.663758",
     "status": "completed"
    },
    "pycharm": {
     "name": "#%%\n"
    },
    "tags": []
   },
   "outputs": [],
   "source": [
    "# Train the model\n",
    "history1 = model1.fit(x_train, y_train, epochs=5, batch_size=16,\n",
    "          validation_data=(x_valid, y_valid), callbacks=[checkpoint])\n",
    "model1.save('unet_model.h5')"
   ]
  },
  {
   "cell_type": "code",
   "execution_count": null,
   "id": "04d796b0",
   "metadata": {
    "execution": {
     "iopub.execute_input": "2024-04-22T13:50:48.945545Z",
     "iopub.status.busy": "2024-04-22T13:50:48.944777Z",
     "iopub.status.idle": "2024-04-22T13:50:53.285432Z",
     "shell.execute_reply": "2024-04-22T13:50:53.284414Z"
    },
    "papermill": {
     "duration": 4.720535,
     "end_time": "2024-04-22T13:50:53.287592",
     "exception": false,
     "start_time": "2024-04-22T13:50:48.567057",
     "status": "completed"
    },
    "pycharm": {
     "name": "#%%\n"
    },
    "tags": []
   },
   "outputs": [],
   "source": [
    "scores1 = model1.evaluate(x_valid, y_valid)\n",
    "scores1[1]"
   ]
  },
  {
   "cell_type": "code",
   "execution_count": null,
   "id": "2bc7406b",
   "metadata": {
    "execution": {
     "iopub.execute_input": "2024-04-22T13:50:54.036238Z",
     "iopub.status.busy": "2024-04-22T13:50:54.035850Z",
     "iopub.status.idle": "2024-04-22T13:50:56.135423Z",
     "shell.execute_reply": "2024-04-22T13:50:56.134576Z"
    },
    "papermill": {
     "duration": 2.48039,
     "end_time": "2024-04-22T13:50:56.137825",
     "exception": false,
     "start_time": "2024-04-22T13:50:53.657435",
     "status": "completed"
    },
    "pycharm": {
     "name": "#%%\n"
    },
    "tags": []
   },
   "outputs": [],
   "source": [
    "prediction1 = model1.predict(x_test)\n",
    "#print(prediction)\n",
    "#print(y_test)"
   ]
  },
  {
   "cell_type": "code",
   "execution_count": null,
   "id": "59f70ea7",
   "metadata": {
    "execution": {
     "iopub.execute_input": "2024-04-22T13:50:56.953545Z",
     "iopub.status.busy": "2024-04-22T13:50:56.952571Z",
     "iopub.status.idle": "2024-04-22T13:50:58.564778Z",
     "shell.execute_reply": "2024-04-22T13:50:58.563857Z"
    },
    "papermill": {
     "duration": 2.057295,
     "end_time": "2024-04-22T13:50:58.566923",
     "exception": false,
     "start_time": "2024-04-22T13:50:56.509628",
     "status": "completed"
    },
    "pycharm": {
     "name": "#%%\n"
    },
    "tags": []
   },
   "outputs": [],
   "source": [
    "test_scores1 = model1.evaluate(x_test, y_test)\n",
    "test_scores1[1]"
   ]
  },
  {
   "cell_type": "code",
   "execution_count": null,
   "id": "836781cc",
   "metadata": {
    "execution": {
     "iopub.execute_input": "2024-04-22T13:50:59.329197Z",
     "iopub.status.busy": "2024-04-22T13:50:59.328796Z",
     "iopub.status.idle": "2024-04-22T13:51:00.399712Z",
     "shell.execute_reply": "2024-04-22T13:51:00.398681Z"
    },
    "papermill": {
     "duration": 1.451604,
     "end_time": "2024-04-22T13:51:00.403011",
     "exception": false,
     "start_time": "2024-04-22T13:50:58.951407",
     "status": "completed"
    },
    "pycharm": {
     "name": "#%%\n"
    },
    "tags": []
   },
   "outputs": [],
   "source": [
    "import numpy as np\n",
    "import matplotlib.pyplot as plt\n",
    "\n",
    "# Assuming you have x_test and y_test\n",
    "# Replace this with the actual index of the image you want to visualize\n",
    "image_index = 40\n",
    "\n",
    "# Load the image and true mask\n",
    "input_image = x_test[image_index]\n",
    "true_mask = y_test[image_index]\n",
    "\n",
    "# Obtain the predicted mask from model2\n",
    "predicted_mask = model1.predict(np.expand_dims(input_image, axis=0))[0]\n",
    "\n",
    "# Threshold the predicted mask (assuming it's a binary mask)\n",
    "threshold = 0.5  # Adjust this threshold based on your model's output\n",
    "predicted_mask_binary = (predicted_mask > threshold).astype(np.uint8)\n",
    "\n",
    "# Plotting\n",
    "plt.figure(figsize=(12, 4))\n",
    "\n",
    "# Plot original image\n",
    "plt.subplot(1, 3, 1)\n",
    "plt.imshow(input_image)\n",
    "plt.title('Original Image')\n",
    "\n",
    "# Plot true mask\n",
    "plt.subplot(1, 3, 2)\n",
    "plt.imshow(true_mask[:, :, 0], cmap='gray')\n",
    "plt.title('True Mask')\n",
    "\n",
    "# Plot predicted mask\n",
    "plt.subplot(1, 3, 3)\n",
    "plt.imshow(predicted_mask_binary[:, :, 0], cmap='gray')\n",
    "plt.title('Predicted Mask')\n",
    "\n",
    "plt.show()\n"
   ]
  },
  {
   "cell_type": "code",
   "execution_count": null,
   "id": "50e53bff",
   "metadata": {
    "execution": {
     "iopub.execute_input": "2024-04-22T13:51:01.158347Z",
     "iopub.status.busy": "2024-04-22T13:51:01.157944Z",
     "iopub.status.idle": "2024-04-22T13:51:01.899889Z",
     "shell.execute_reply": "2024-04-22T13:51:01.898817Z"
    },
    "papermill": {
     "duration": 1.121548,
     "end_time": "2024-04-22T13:51:01.902270",
     "exception": false,
     "start_time": "2024-04-22T13:51:00.780722",
     "status": "completed"
    },
    "pycharm": {
     "name": "#%%\n"
    },
    "tags": []
   },
   "outputs": [],
   "source": [
    "def segnet_model(input_shape=(128, 128, 3)):\n",
    "    model2 = tf.keras.Sequential()\n",
    "\n",
    "    # Encoder\n",
    "    model2.add(layers.Conv2D(64, (3, 3), padding='same', input_shape=input_shape))\n",
    "    model2.add(layers.BatchNormalization())\n",
    "    model2.add(layers.Activation('relu'))\n",
    "    model2.add(layers.Conv2D(64, (3, 3), padding='same'))\n",
    "    model2.add(layers.BatchNormalization())\n",
    "    model2.add(layers.Activation('relu'))\n",
    "    model2.add(layers.MaxPooling2D(pool_size=(2, 2), strides=(2, 2)))\n",
    "\n",
    "    model2.add(layers.Conv2D(128, (3, 3), padding='same'))\n",
    "    model2.add(layers.BatchNormalization())\n",
    "    model2.add(layers.Activation('relu'))\n",
    "    model2.add(layers.Conv2D(128, (3, 3), padding='same'))\n",
    "    model2.add(layers.BatchNormalization())\n",
    "    model2.add(layers.Activation('relu'))\n",
    "    model2.add(layers.MaxPooling2D(pool_size=(2, 2), strides=(2, 2)))\n",
    "\n",
    "    model2.add(layers.Conv2D(256, (3, 3), padding='same'))\n",
    "    model2.add(layers.BatchNormalization())\n",
    "    model2.add(layers.Activation('relu'))\n",
    "    model2.add(layers.Conv2D(256, (3, 3), padding='same'))\n",
    "    model2.add(layers.BatchNormalization())\n",
    "    model2.add(layers.Activation('relu'))\n",
    "    model2.add(layers.Conv2D(256, (3, 3), padding='same'))\n",
    "    model2.add(layers.BatchNormalization())\n",
    "    model2.add(layers.Activation('relu'))\n",
    "    model2.add(layers.MaxPooling2D(pool_size=(2, 2), strides=(2, 2)))\n",
    "\n",
    "    # Decoder\n",
    "    model2.add(layers.UpSampling2D(size=(2, 2)))\n",
    "    model2.add(layers.Conv2D(256, (3, 3), padding='same'))\n",
    "    model2.add(layers.BatchNormalization())\n",
    "    model2.add(layers.Activation('relu'))\n",
    "    model2.add(layers.Conv2D(256, (3, 3), padding='same'))\n",
    "    model2.add(layers.BatchNormalization())\n",
    "    model2.add(layers.Activation('relu'))\n",
    "    model2.add(layers.Conv2D(256, (3, 3), padding='same'))\n",
    "    model2.add(layers.BatchNormalization())\n",
    "    model2.add(layers.Activation('relu'))\n",
    "\n",
    "    model2.add(layers.UpSampling2D(size=(2, 2)))\n",
    "    model2.add(layers.Conv2D(128, (3, 3), padding='same'))\n",
    "    model2.add(layers.BatchNormalization())\n",
    "    model2.add(layers.Activation('relu'))\n",
    "    model2.add(layers.Conv2D(128, (3, 3), padding='same'))\n",
    "    model2.add(layers.BatchNormalization())\n",
    "    model2.add(layers.Activation('relu'))\n",
    "\n",
    "    model2.add(layers.UpSampling2D(size=(2, 2)))\n",
    "    model2.add(layers.Conv2D(64, (3, 3), padding='same'))\n",
    "    model2.add(layers.BatchNormalization())\n",
    "    model2.add(layers.Activation('relu'))\n",
    "    model2.add(layers.Conv2D(64, (3, 3), padding='same'))\n",
    "    model2.add(layers.BatchNormalization())\n",
    "    model2.add(layers.Activation('relu'))\n",
    "\n",
    "    # Output layer\n",
    "    model2.add(layers.Conv2D(1, (1, 1), activation='sigmoid', padding='same'))\n",
    "\n",
    "    return model2\n",
    "\n",
    "# Create SegNet model\n",
    "model2 = segnet_model(input_shape=(128, 128, 3))\n",
    "\n",
    "\n",
    "# Display the model summary\n",
    "model2.summary()\n",
    "model2.save('segnet_model2.h5')"
   ]
  },
  {
   "cell_type": "code",
   "execution_count": null,
   "id": "03a2e5a7",
   "metadata": {
    "execution": {
     "iopub.execute_input": "2024-04-22T13:51:02.676037Z",
     "iopub.status.busy": "2024-04-22T13:51:02.675297Z",
     "iopub.status.idle": "2024-04-22T13:51:02.680105Z",
     "shell.execute_reply": "2024-04-22T13:51:02.679110Z"
    },
    "papermill": {
     "duration": 0.394191,
     "end_time": "2024-04-22T13:51:02.682048",
     "exception": false,
     "start_time": "2024-04-22T13:51:02.287857",
     "status": "completed"
    },
    "pycharm": {
     "name": "#%%\n"
    },
    "tags": []
   },
   "outputs": [],
   "source": [
    "from tensorflow.keras.utils import plot_model\n",
    "#tf.keras.utils.plot_model(model1, show_shapes=True)\n",
    "# Assuming you have created the model using the create_fcn_model function\n",
    "#model1 = create_unet_model()\n",
    "\n",
    "# Save the model architecture plot to a file\n",
    "#plot_model(model2, to_file='segnet_model.png', show_shapes=False)"
   ]
  },
  {
   "cell_type": "code",
   "execution_count": null,
   "id": "ecab3b9f",
   "metadata": {
    "execution": {
     "iopub.execute_input": "2024-04-22T13:51:03.519946Z",
     "iopub.status.busy": "2024-04-22T13:51:03.519556Z",
     "iopub.status.idle": "2024-04-22T13:51:03.524867Z",
     "shell.execute_reply": "2024-04-22T13:51:03.523843Z"
    },
    "papermill": {
     "duration": 0.452867,
     "end_time": "2024-04-22T13:51:03.526739",
     "exception": false,
     "start_time": "2024-04-22T13:51:03.073872",
     "status": "completed"
    },
    "pycharm": {
     "name": "#%%\n"
    },
    "tags": []
   },
   "outputs": [],
   "source": [
    "checkpoint = tf.keras.callbacks.ModelCheckpoint(\"segnet_model2.h5\", monitor='val_loss', verbose=1, patience = 3,save_best_only=True,\n",
    "                                                mode='auto')"
   ]
  },
  {
   "cell_type": "code",
   "execution_count": null,
   "id": "86072798",
   "metadata": {
    "execution": {
     "iopub.execute_input": "2024-04-22T13:51:04.305376Z",
     "iopub.status.busy": "2024-04-22T13:51:04.304975Z",
     "iopub.status.idle": "2024-04-22T13:51:04.321816Z",
     "shell.execute_reply": "2024-04-22T13:51:04.320821Z"
    },
    "papermill": {
     "duration": 0.409923,
     "end_time": "2024-04-22T13:51:04.324177",
     "exception": false,
     "start_time": "2024-04-22T13:51:03.914254",
     "status": "completed"
    },
    "pycharm": {
     "name": "#%%\n"
    },
    "tags": []
   },
   "outputs": [],
   "source": [
    "from tensorflow.keras.optimizers import Adam\n",
    "# Compile the model [0.001,0001, 6e-e]\n",
    "model2.compile(optimizer=Adam(lr=0.001, beta_1=0.9, beta_2=0.999),\n",
    "              loss= 'binary_crossentropy', metrics=[jaccard_distance])"
   ]
  },
  {
   "cell_type": "code",
   "execution_count": null,
   "id": "06ae10ff",
   "metadata": {
    "execution": {
     "iopub.execute_input": "2024-04-22T13:51:05.106371Z",
     "iopub.status.busy": "2024-04-22T13:51:05.105494Z",
     "iopub.status.idle": "2024-04-22T13:57:37.203500Z",
     "shell.execute_reply": "2024-04-22T13:57:37.202461Z"
    },
    "papermill": {
     "duration": 392.493175,
     "end_time": "2024-04-22T13:57:37.206051",
     "exception": false,
     "start_time": "2024-04-22T13:51:04.712876",
     "status": "completed"
    },
    "pycharm": {
     "name": "#%%\n"
    },
    "tags": []
   },
   "outputs": [],
   "source": [
    "# Train the model\n",
    "history2 = model2.fit(x_train, y_train, epochs=5, batch_size=16,\n",
    "          validation_data=(x_valid, y_valid), callbacks=[checkpoint])\n",
    "model2.save('segnet_model2.h5')"
   ]
  },
  {
   "cell_type": "code",
   "execution_count": null,
   "id": "1d7bc924",
   "metadata": {
    "execution": {
     "iopub.execute_input": "2024-04-22T13:57:38.349609Z",
     "iopub.status.busy": "2024-04-22T13:57:38.348899Z",
     "iopub.status.idle": "2024-04-22T13:57:48.275412Z",
     "shell.execute_reply": "2024-04-22T13:57:48.274429Z"
    },
    "papermill": {
     "duration": 10.501269,
     "end_time": "2024-04-22T13:57:48.277398",
     "exception": false,
     "start_time": "2024-04-22T13:57:37.776129",
     "status": "completed"
    },
    "pycharm": {
     "name": "#%%\n"
    },
    "tags": []
   },
   "outputs": [],
   "source": [
    "scores2 = model2.evaluate(x_valid, y_valid)\n",
    "scores2[1]"
   ]
  },
  {
   "cell_type": "code",
   "execution_count": null,
   "id": "4bb0e69a",
   "metadata": {
    "execution": {
     "iopub.execute_input": "2024-04-22T13:57:49.464220Z",
     "iopub.status.busy": "2024-04-22T13:57:49.463825Z",
     "iopub.status.idle": "2024-04-22T13:57:54.136822Z",
     "shell.execute_reply": "2024-04-22T13:57:54.135706Z"
    },
    "papermill": {
     "duration": 5.301039,
     "end_time": "2024-04-22T13:57:54.139326",
     "exception": false,
     "start_time": "2024-04-22T13:57:48.838287",
     "status": "completed"
    },
    "pycharm": {
     "name": "#%%\n"
    },
    "tags": []
   },
   "outputs": [],
   "source": [
    "prediction2 = model2.predict(x_test)\n",
    "#print(prediction)\n",
    "#print(y_test)\n"
   ]
  },
  {
   "cell_type": "code",
   "execution_count": null,
   "id": "9d91a8a4",
   "metadata": {
    "execution": {
     "iopub.execute_input": "2024-04-22T13:57:55.264599Z",
     "iopub.status.busy": "2024-04-22T13:57:55.264195Z",
     "iopub.status.idle": "2024-04-22T13:57:58.822169Z",
     "shell.execute_reply": "2024-04-22T13:57:58.821180Z"
    },
    "papermill": {
     "duration": 4.120426,
     "end_time": "2024-04-22T13:57:58.824248",
     "exception": false,
     "start_time": "2024-04-22T13:57:54.703822",
     "status": "completed"
    },
    "pycharm": {
     "name": "#%%\n"
    },
    "tags": []
   },
   "outputs": [],
   "source": [
    "test_scores2 = model2.evaluate(x_test, y_test)\n",
    "test_scores2[1]"
   ]
  },
  {
   "cell_type": "code",
   "execution_count": null,
   "id": "fb376bab",
   "metadata": {
    "execution": {
     "iopub.execute_input": "2024-04-22T13:57:59.990229Z",
     "iopub.status.busy": "2024-04-22T13:57:59.989821Z",
     "iopub.status.idle": "2024-04-22T13:58:01.288231Z",
     "shell.execute_reply": "2024-04-22T13:58:01.287109Z"
    },
    "papermill": {
     "duration": 1.899932,
     "end_time": "2024-04-22T13:58:01.290808",
     "exception": false,
     "start_time": "2024-04-22T13:57:59.390876",
     "status": "completed"
    },
    "pycharm": {
     "name": "#%%\n"
    },
    "tags": []
   },
   "outputs": [],
   "source": [
    "import numpy as np\n",
    "import matplotlib.pyplot as plt\n",
    "\n",
    "# Assuming you have x_test and y_test\n",
    "# Replace this with the actual index of the image you want to visualize\n",
    "image_index = 45\n",
    "\n",
    "# Load the image and true mask\n",
    "input_image = x_test[image_index]\n",
    "true_mask = y_test[image_index]\n",
    "\n",
    "# Obtain the predicted mask from model2\n",
    "predicted_mask = model2.predict(np.expand_dims(input_image, axis=0))[0]\n",
    "\n",
    "# Threshold the predicted mask (assuming it's a binary mask)\n",
    "threshold = 0.5  # Adjust this threshold based on your model's output\n",
    "predicted_mask_binary = (predicted_mask > threshold).astype(np.uint8)\n",
    "\n",
    "# Plotting\n",
    "plt.figure(figsize=(12, 4))\n",
    "\n",
    "# Plot original image\n",
    "plt.subplot(1, 3, 1)\n",
    "plt.imshow(input_image)\n",
    "plt.title('Original Image')\n",
    "\n",
    "# Plot true mask\n",
    "plt.subplot(1, 3, 2)\n",
    "plt.imshow(true_mask[:, :, 0], cmap='gray')\n",
    "plt.title('True Mask')\n",
    "\n",
    "# Plot predicted mask\n",
    "plt.subplot(1, 3, 3)\n",
    "plt.imshow(predicted_mask_binary[:, :, 0], cmap='gray')\n",
    "plt.title('Predicted Mask')\n",
    "\n",
    "plt.show()"
   ]
  },
  {
   "cell_type": "code",
   "execution_count": null,
   "id": "44bfdab2",
   "metadata": {
    "execution": {
     "iopub.execute_input": "2024-04-22T13:58:02.505176Z",
     "iopub.status.busy": "2024-04-22T13:58:02.504462Z",
     "iopub.status.idle": "2024-04-22T13:58:02.586811Z",
     "shell.execute_reply": "2024-04-22T13:58:02.585751Z"
    },
    "papermill": {
     "duration": 0.660079,
     "end_time": "2024-04-22T13:58:02.589204",
     "exception": false,
     "start_time": "2024-04-22T13:58:01.929125",
     "status": "completed"
    },
    "pycharm": {
     "name": "#%%\n"
    },
    "tags": []
   },
   "outputs": [],
   "source": [
    "# Step 2: Apply weights to the predictions\n",
    "unet_weight = 0.98\n",
    "fcn_weight = 0.71\n",
    "segnet_weight = 0.99\n",
    "sum_weights = unet_weight + fcn_weight + segnet_weight\n",
    "\n",
    "w_unet = unet_weight / sum_weights\n",
    "w_fcn = fcn_weight / sum_weights\n",
    "w_segnet = segnet_weight / sum_weights\n",
    "\n",
    "# Step 3: Take element-wise maximum prediction\n",
    "weighted_prediction = np.maximum(w_unet * prediction1, w_fcn * prediction, w_segnet * prediction2)\n"
   ]
  },
  {
   "cell_type": "code",
   "execution_count": null,
   "id": "6f1bc133",
   "metadata": {
    "execution": {
     "iopub.execute_input": "2024-04-22T13:58:03.719147Z",
     "iopub.status.busy": "2024-04-22T13:58:03.718743Z",
     "iopub.status.idle": "2024-04-22T13:58:10.877647Z",
     "shell.execute_reply": "2024-04-22T13:58:10.876722Z"
    },
    "papermill": {
     "duration": 7.728443,
     "end_time": "2024-04-22T13:58:10.879588",
     "exception": false,
     "start_time": "2024-04-22T13:58:03.151145",
     "status": "completed"
    },
    "pycharm": {
     "name": "#%%\n"
    },
    "tags": []
   },
   "outputs": [],
   "source": [
    "# Step 4: Take argmax along the last axis\n",
    "final_prediction = np.argmax(weighted_prediction, axis=-1)\n",
    "\n",
    "# Step 5: Calculate the testing score using the combined predictions\n",
    "test_scores1 = model2.evaluate(x_test, y_test)\n",
    "test_scores2 = model1.evaluate(x_test, y_test)\n",
    "weighted_test_score = w_unet * test_scores[1] + w_fcn * model.evaluate(x_test, y_test)[1] + w_segnet*test_scores1[1]\n",
    "\n",
    "print(f'Testing score with weighted predictions: {weighted_test_score}')"
   ]
  },
  {
   "cell_type": "code",
   "execution_count": null,
   "id": "91c19a0c",
   "metadata": {
    "execution": {
     "iopub.execute_input": "2024-04-22T13:58:12.073833Z",
     "iopub.status.busy": "2024-04-22T13:58:12.072984Z",
     "iopub.status.idle": "2024-04-22T13:58:12.763743Z",
     "shell.execute_reply": "2024-04-22T13:58:12.762843Z"
    },
    "papermill": {
     "duration": 1.320003,
     "end_time": "2024-04-22T13:58:12.766372",
     "exception": false,
     "start_time": "2024-04-22T13:58:11.446369",
     "status": "completed"
    },
    "pycharm": {
     "name": "#%%\n"
    },
    "tags": []
   },
   "outputs": [],
   "source": [
    "import matplotlib.pyplot as plt\n",
    "\n",
    "# Assuming you have an image, true mask, and final_prediction\n",
    "image_index = 40  # Adjust this based on the image you want to visualize\n",
    "\n",
    "# Load the image, true mask, and predicted mask\n",
    "input_image = x_test[image_index]\n",
    "true_mask = y_test[image_index]\n",
    "predicted_mask = final_prediction[image_index]\n",
    "\n",
    "# Plotting\n",
    "plt.figure(figsize=(12, 4))\n",
    "\n",
    "# Plot original image\n",
    "plt.subplot(1, 3, 1)\n",
    "plt.imshow(input_image)\n",
    "plt.title('Original Image')\n",
    "\n",
    "# Plot true mask\n",
    "plt.subplot(1, 3, 2)\n",
    "plt.imshow(true_mask[:, :, 0], cmap='gray')\n",
    "plt.title('True Mask')\n",
    "\n",
    "# Plot predicted mask\n",
    "plt.subplot(1, 3, 3)\n",
    "plt.imshow(predicted_mask, cmap='gray')\n",
    "plt.title('Predicted Mask')\n",
    "\n",
    "plt.show()"
   ]
  },
  {
   "cell_type": "code",
   "execution_count": null,
   "id": "b1880b02",
   "metadata": {
    "papermill": {
     "duration": 0.574407,
     "end_time": "2024-04-22T13:58:13.908065",
     "exception": false,
     "start_time": "2024-04-22T13:58:13.333658",
     "status": "completed"
    },
    "pycharm": {
     "name": "#%%\n"
    },
    "tags": []
   },
   "outputs": [],
   "source": []
  }
 ],
 "metadata": {
  "kaggle": {
   "accelerator": "nvidiaTeslaT4",
   "dataSources": [
    {
     "datasetId": 767686,
     "sourceId": 1327578,
     "sourceType": "datasetVersion"
    },
    {
     "datasetId": 769463,
     "sourceId": 1327590,
     "sourceType": "datasetVersion"
    }
   ],
   "dockerImageVersionId": 30627,
   "isGpuEnabled": true,
   "isInternetEnabled": true,
   "language": "python",
   "sourceType": "notebook"
  },
  "kernelspec": {
   "display_name": "Python 3",
   "language": "python",
   "name": "python3"
  },
  "language_info": {
   "codemirror_mode": {
    "name": "ipython",
    "version": 3
   },
   "file_extension": ".py",
   "mimetype": "text/x-python",
   "name": "python",
   "nbconvert_exporter": "python",
   "pygments_lexer": "ipython3",
   "version": "3.11.2"
  },
  "papermill": {
   "default_parameters": {},
   "duration": 1751.612389,
   "end_time": "2024-04-22T13:58:18.163620",
   "environment_variables": {},
   "exception": null,
   "input_path": "__notebook__.ipynb",
   "output_path": "__notebook__.ipynb",
   "parameters": {},
   "start_time": "2024-04-22T13:29:06.551231",
   "version": "2.4.0"
  },
  "widgets": {
   "application/vnd.jupyter.widget-state+json": {
    "state": {
     "020eb015b6a440809e4a93b50eca18a6": {
      "model_module": "@jupyter-widgets/controls",
      "model_module_version": "1.5.0",
      "model_name": "HBoxModel",
      "state": {
       "_dom_classes": [],
       "_model_module": "@jupyter-widgets/controls",
       "_model_module_version": "1.5.0",
       "_model_name": "HBoxModel",
       "_view_count": null,
       "_view_module": "@jupyter-widgets/controls",
       "_view_module_version": "1.5.0",
       "_view_name": "HBoxView",
       "box_style": "",
       "children": [
        "IPY_MODEL_f36003c9d56b45e1a560fa37397580ef",
        "IPY_MODEL_cf01a70a4d22497dbefc801cb444706a",
        "IPY_MODEL_2fb2904311d748d1bc289a95e865471a"
       ],
       "layout": "IPY_MODEL_c95abddcb42245e09e1510f31d911ddc"
      }
     },
     "2627c0f534b240f1a7c061b1b597c62f": {
      "model_module": "@jupyter-widgets/controls",
      "model_module_version": "1.5.0",
      "model_name": "ProgressStyleModel",
      "state": {
       "_model_module": "@jupyter-widgets/controls",
       "_model_module_version": "1.5.0",
       "_model_name": "ProgressStyleModel",
       "_view_count": null,
       "_view_module": "@jupyter-widgets/base",
       "_view_module_version": "1.2.0",
       "_view_name": "StyleView",
       "bar_color": null,
       "description_width": ""
      }
     },
     "2fb2904311d748d1bc289a95e865471a": {
      "model_module": "@jupyter-widgets/controls",
      "model_module_version": "1.5.0",
      "model_name": "HTMLModel",
      "state": {
       "_dom_classes": [],
       "_model_module": "@jupyter-widgets/controls",
       "_model_module_version": "1.5.0",
       "_model_name": "HTMLModel",
       "_view_count": null,
       "_view_module": "@jupyter-widgets/controls",
       "_view_module_version": "1.5.0",
       "_view_name": "HTMLView",
       "description": "",
       "description_tooltip": null,
       "layout": "IPY_MODEL_825e9a0e71a64160b067e65d7ab80b13",
       "placeholder": "​",
       "style": "IPY_MODEL_7109841a3d3b4a0086e6b287d34fa86f",
       "value": " 65/65 [13:51&lt;00:00, 15.59s/it]"
      }
     },
     "7109841a3d3b4a0086e6b287d34fa86f": {
      "model_module": "@jupyter-widgets/controls",
      "model_module_version": "1.5.0",
      "model_name": "DescriptionStyleModel",
      "state": {
       "_model_module": "@jupyter-widgets/controls",
       "_model_module_version": "1.5.0",
       "_model_name": "DescriptionStyleModel",
       "_view_count": null,
       "_view_module": "@jupyter-widgets/base",
       "_view_module_version": "1.2.0",
       "_view_name": "StyleView",
       "description_width": ""
      }
     },
     "76a6e423c9384a60ba3cb65a1eb46c52": {
      "model_module": "@jupyter-widgets/base",
      "model_module_version": "1.2.0",
      "model_name": "LayoutModel",
      "state": {
       "_model_module": "@jupyter-widgets/base",
       "_model_module_version": "1.2.0",
       "_model_name": "LayoutModel",
       "_view_count": null,
       "_view_module": "@jupyter-widgets/base",
       "_view_module_version": "1.2.0",
       "_view_name": "LayoutView",
       "align_content": null,
       "align_items": null,
       "align_self": null,
       "border": null,
       "bottom": null,
       "display": null,
       "flex": null,
       "flex_flow": null,
       "grid_area": null,
       "grid_auto_columns": null,
       "grid_auto_flow": null,
       "grid_auto_rows": null,
       "grid_column": null,
       "grid_gap": null,
       "grid_row": null,
       "grid_template_areas": null,
       "grid_template_columns": null,
       "grid_template_rows": null,
       "height": null,
       "justify_content": null,
       "justify_items": null,
       "left": null,
       "margin": null,
       "max_height": null,
       "max_width": null,
       "min_height": null,
       "min_width": null,
       "object_fit": null,
       "object_position": null,
       "order": null,
       "overflow": null,
       "overflow_x": null,
       "overflow_y": null,
       "padding": null,
       "right": null,
       "top": null,
       "visibility": null,
       "width": null
      }
     },
     "825e9a0e71a64160b067e65d7ab80b13": {
      "model_module": "@jupyter-widgets/base",
      "model_module_version": "1.2.0",
      "model_name": "LayoutModel",
      "state": {
       "_model_module": "@jupyter-widgets/base",
       "_model_module_version": "1.2.0",
       "_model_name": "LayoutModel",
       "_view_count": null,
       "_view_module": "@jupyter-widgets/base",
       "_view_module_version": "1.2.0",
       "_view_name": "LayoutView",
       "align_content": null,
       "align_items": null,
       "align_self": null,
       "border": null,
       "bottom": null,
       "display": null,
       "flex": null,
       "flex_flow": null,
       "grid_area": null,
       "grid_auto_columns": null,
       "grid_auto_flow": null,
       "grid_auto_rows": null,
       "grid_column": null,
       "grid_gap": null,
       "grid_row": null,
       "grid_template_areas": null,
       "grid_template_columns": null,
       "grid_template_rows": null,
       "height": null,
       "justify_content": null,
       "justify_items": null,
       "left": null,
       "margin": null,
       "max_height": null,
       "max_width": null,
       "min_height": null,
       "min_width": null,
       "object_fit": null,
       "object_position": null,
       "order": null,
       "overflow": null,
       "overflow_x": null,
       "overflow_y": null,
       "padding": null,
       "right": null,
       "top": null,
       "visibility": null,
       "width": null
      }
     },
     "9678261b2856472ca1a2642b6302dd7b": {
      "model_module": "@jupyter-widgets/base",
      "model_module_version": "1.2.0",
      "model_name": "LayoutModel",
      "state": {
       "_model_module": "@jupyter-widgets/base",
       "_model_module_version": "1.2.0",
       "_model_name": "LayoutModel",
       "_view_count": null,
       "_view_module": "@jupyter-widgets/base",
       "_view_module_version": "1.2.0",
       "_view_name": "LayoutView",
       "align_content": null,
       "align_items": null,
       "align_self": null,
       "border": null,
       "bottom": null,
       "display": null,
       "flex": null,
       "flex_flow": null,
       "grid_area": null,
       "grid_auto_columns": null,
       "grid_auto_flow": null,
       "grid_auto_rows": null,
       "grid_column": null,
       "grid_gap": null,
       "grid_row": null,
       "grid_template_areas": null,
       "grid_template_columns": null,
       "grid_template_rows": null,
       "height": null,
       "justify_content": null,
       "justify_items": null,
       "left": null,
       "margin": null,
       "max_height": null,
       "max_width": null,
       "min_height": null,
       "min_width": null,
       "object_fit": null,
       "object_position": null,
       "order": null,
       "overflow": null,
       "overflow_x": null,
       "overflow_y": null,
       "padding": null,
       "right": null,
       "top": null,
       "visibility": null,
       "width": null
      }
     },
     "c4c2543ebab8434ba8f25ef09bf722ea": {
      "model_module": "@jupyter-widgets/controls",
      "model_module_version": "1.5.0",
      "model_name": "DescriptionStyleModel",
      "state": {
       "_model_module": "@jupyter-widgets/controls",
       "_model_module_version": "1.5.0",
       "_model_name": "DescriptionStyleModel",
       "_view_count": null,
       "_view_module": "@jupyter-widgets/base",
       "_view_module_version": "1.2.0",
       "_view_name": "StyleView",
       "description_width": ""
      }
     },
     "c95abddcb42245e09e1510f31d911ddc": {
      "model_module": "@jupyter-widgets/base",
      "model_module_version": "1.2.0",
      "model_name": "LayoutModel",
      "state": {
       "_model_module": "@jupyter-widgets/base",
       "_model_module_version": "1.2.0",
       "_model_name": "LayoutModel",
       "_view_count": null,
       "_view_module": "@jupyter-widgets/base",
       "_view_module_version": "1.2.0",
       "_view_name": "LayoutView",
       "align_content": null,
       "align_items": null,
       "align_self": null,
       "border": null,
       "bottom": null,
       "display": null,
       "flex": null,
       "flex_flow": null,
       "grid_area": null,
       "grid_auto_columns": null,
       "grid_auto_flow": null,
       "grid_auto_rows": null,
       "grid_column": null,
       "grid_gap": null,
       "grid_row": null,
       "grid_template_areas": null,
       "grid_template_columns": null,
       "grid_template_rows": null,
       "height": null,
       "justify_content": null,
       "justify_items": null,
       "left": null,
       "margin": null,
       "max_height": null,
       "max_width": null,
       "min_height": null,
       "min_width": null,
       "object_fit": null,
       "object_position": null,
       "order": null,
       "overflow": null,
       "overflow_x": null,
       "overflow_y": null,
       "padding": null,
       "right": null,
       "top": null,
       "visibility": null,
       "width": null
      }
     },
     "cf01a70a4d22497dbefc801cb444706a": {
      "model_module": "@jupyter-widgets/controls",
      "model_module_version": "1.5.0",
      "model_name": "FloatProgressModel",
      "state": {
       "_dom_classes": [],
       "_model_module": "@jupyter-widgets/controls",
       "_model_module_version": "1.5.0",
       "_model_name": "FloatProgressModel",
       "_view_count": null,
       "_view_module": "@jupyter-widgets/controls",
       "_view_module_version": "1.5.0",
       "_view_name": "ProgressView",
       "bar_style": "success",
       "description": "",
       "description_tooltip": null,
       "layout": "IPY_MODEL_76a6e423c9384a60ba3cb65a1eb46c52",
       "max": 65,
       "min": 0,
       "orientation": "horizontal",
       "style": "IPY_MODEL_2627c0f534b240f1a7c061b1b597c62f",
       "value": 65
      }
     },
     "f36003c9d56b45e1a560fa37397580ef": {
      "model_module": "@jupyter-widgets/controls",
      "model_module_version": "1.5.0",
      "model_name": "HTMLModel",
      "state": {
       "_dom_classes": [],
       "_model_module": "@jupyter-widgets/controls",
       "_model_module_version": "1.5.0",
       "_model_name": "HTMLModel",
       "_view_count": null,
       "_view_module": "@jupyter-widgets/controls",
       "_view_module_version": "1.5.0",
       "_view_name": "HTMLView",
       "description": "",
       "description_tooltip": null,
       "layout": "IPY_MODEL_9678261b2856472ca1a2642b6302dd7b",
       "placeholder": "​",
       "style": "IPY_MODEL_c4c2543ebab8434ba8f25ef09bf722ea",
       "value": "100%"
      }
     }
    },
    "version_major": 2,
    "version_minor": 0
   }
  }
 },
 "nbformat": 4,
 "nbformat_minor": 5
}